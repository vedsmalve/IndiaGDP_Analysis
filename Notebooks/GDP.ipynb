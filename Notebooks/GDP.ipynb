{
 "cells": [
  {
   "cell_type": "markdown",
   "metadata": {},
   "source": [
    "## Importing Important libraries"
   ]
  },
  {
   "cell_type": "code",
   "execution_count": 2,
   "metadata": {},
   "outputs": [],
   "source": [
    "import pandas as pd\n",
    "import numpy as np \n",
    "import matplotlib.pyplot as plt \n",
    "import seaborn as sb "
   ]
  },
  {
   "cell_type": "markdown",
   "metadata": {},
   "source": [
    "## Uploading CSV Dataset using 'read_csv() method'"
   ]
  },
  {
   "cell_type": "code",
   "execution_count": 3,
   "metadata": {},
   "outputs": [],
   "source": [
    "df = pd.read_csv(r'C:\\Users\\vedsm\\OneDrive\\Desktop\\India_GDP_Analysis\\Datasets\\CSV_files\\India_GDP_Data.csv')"
   ]
  },
  {
   "cell_type": "code",
   "execution_count": 4,
   "metadata": {},
   "outputs": [
    {
     "data": {
      "text/html": [
       "<div>\n",
       "<style scoped>\n",
       "    .dataframe tbody tr th:only-of-type {\n",
       "        vertical-align: middle;\n",
       "    }\n",
       "\n",
       "    .dataframe tbody tr th {\n",
       "        vertical-align: top;\n",
       "    }\n",
       "\n",
       "    .dataframe thead th {\n",
       "        text-align: right;\n",
       "    }\n",
       "</style>\n",
       "<table border=\"1\" class=\"dataframe\">\n",
       "  <thead>\n",
       "    <tr style=\"text-align: right;\">\n",
       "      <th></th>\n",
       "      <th>Year</th>\n",
       "      <th>GDP_In_Billion_USD</th>\n",
       "      <th>Per_Capita_in_USD</th>\n",
       "      <th>Percentage_Growth</th>\n",
       "    </tr>\n",
       "  </thead>\n",
       "  <tbody>\n",
       "    <tr>\n",
       "      <th>0</th>\n",
       "      <td>2021</td>\n",
       "      <td>3173.40</td>\n",
       "      <td>2277</td>\n",
       "      <td>8.95</td>\n",
       "    </tr>\n",
       "    <tr>\n",
       "      <th>1</th>\n",
       "      <td>2020</td>\n",
       "      <td>2667.69</td>\n",
       "      <td>1933</td>\n",
       "      <td>-6.60</td>\n",
       "    </tr>\n",
       "    <tr>\n",
       "      <th>2</th>\n",
       "      <td>2019</td>\n",
       "      <td>2831.55</td>\n",
       "      <td>2072</td>\n",
       "      <td>3.74</td>\n",
       "    </tr>\n",
       "    <tr>\n",
       "      <th>3</th>\n",
       "      <td>2018</td>\n",
       "      <td>2702.93</td>\n",
       "      <td>1998</td>\n",
       "      <td>6.45</td>\n",
       "    </tr>\n",
       "    <tr>\n",
       "      <th>4</th>\n",
       "      <td>2017</td>\n",
       "      <td>2651.47</td>\n",
       "      <td>1981</td>\n",
       "      <td>6.80</td>\n",
       "    </tr>\n",
       "    <tr>\n",
       "      <th>...</th>\n",
       "      <td>...</td>\n",
       "      <td>...</td>\n",
       "      <td>...</td>\n",
       "      <td>...</td>\n",
       "    </tr>\n",
       "    <tr>\n",
       "      <th>56</th>\n",
       "      <td>1965</td>\n",
       "      <td>59.55</td>\n",
       "      <td>119</td>\n",
       "      <td>-2.64</td>\n",
       "    </tr>\n",
       "    <tr>\n",
       "      <th>57</th>\n",
       "      <td>1964</td>\n",
       "      <td>56.48</td>\n",
       "      <td>116</td>\n",
       "      <td>7.45</td>\n",
       "    </tr>\n",
       "    <tr>\n",
       "      <th>58</th>\n",
       "      <td>1963</td>\n",
       "      <td>48.42</td>\n",
       "      <td>101</td>\n",
       "      <td>5.99</td>\n",
       "    </tr>\n",
       "    <tr>\n",
       "      <th>59</th>\n",
       "      <td>1962</td>\n",
       "      <td>42.16</td>\n",
       "      <td>90</td>\n",
       "      <td>2.93</td>\n",
       "    </tr>\n",
       "    <tr>\n",
       "      <th>60</th>\n",
       "      <td>1961</td>\n",
       "      <td>39.23</td>\n",
       "      <td>85</td>\n",
       "      <td>3.72</td>\n",
       "    </tr>\n",
       "  </tbody>\n",
       "</table>\n",
       "<p>61 rows × 4 columns</p>\n",
       "</div>"
      ],
      "text/plain": [
       "    Year  GDP_In_Billion_USD  Per_Capita_in_USD  Percentage_Growth \n",
       "0   2021             3173.40               2277                8.95\n",
       "1   2020             2667.69               1933               -6.60\n",
       "2   2019             2831.55               2072                3.74\n",
       "3   2018             2702.93               1998                6.45\n",
       "4   2017             2651.47               1981                6.80\n",
       "..   ...                 ...                ...                 ...\n",
       "56  1965               59.55                119               -2.64\n",
       "57  1964               56.48                116                7.45\n",
       "58  1963               48.42                101                5.99\n",
       "59  1962               42.16                 90                2.93\n",
       "60  1961               39.23                 85                3.72\n",
       "\n",
       "[61 rows x 4 columns]"
      ]
     },
     "execution_count": 4,
     "metadata": {},
     "output_type": "execute_result"
    }
   ],
   "source": [
    "df"
   ]
  },
  {
   "cell_type": "code",
   "execution_count": 51,
   "metadata": {},
   "outputs": [
    {
     "data": {
      "text/html": [
       "<div>\n",
       "<style scoped>\n",
       "    .dataframe tbody tr th:only-of-type {\n",
       "        vertical-align: middle;\n",
       "    }\n",
       "\n",
       "    .dataframe tbody tr th {\n",
       "        vertical-align: top;\n",
       "    }\n",
       "\n",
       "    .dataframe thead th {\n",
       "        text-align: right;\n",
       "    }\n",
       "</style>\n",
       "<table border=\"1\" class=\"dataframe\">\n",
       "  <thead>\n",
       "    <tr style=\"text-align: right;\">\n",
       "      <th></th>\n",
       "      <th>Year</th>\n",
       "      <th>GDP_In_Billion_USD</th>\n",
       "      <th>Per_Capita_in_USD</th>\n",
       "      <th>Percentage_Growth</th>\n",
       "    </tr>\n",
       "  </thead>\n",
       "  <tbody>\n",
       "    <tr>\n",
       "      <th>count</th>\n",
       "      <td>61.000000</td>\n",
       "      <td>61.000000</td>\n",
       "      <td>61.000000</td>\n",
       "      <td>61.000000</td>\n",
       "    </tr>\n",
       "    <tr>\n",
       "      <th>mean</th>\n",
       "      <td>1991.000000</td>\n",
       "      <td>709.889016</td>\n",
       "      <td>611.163934</td>\n",
       "      <td>5.089344</td>\n",
       "    </tr>\n",
       "    <tr>\n",
       "      <th>std</th>\n",
       "      <td>17.752934</td>\n",
       "      <td>870.169692</td>\n",
       "      <td>618.757227</td>\n",
       "      <td>3.282711</td>\n",
       "    </tr>\n",
       "    <tr>\n",
       "      <th>min</th>\n",
       "      <td>1961.000000</td>\n",
       "      <td>39.230000</td>\n",
       "      <td>85.000000</td>\n",
       "      <td>-6.600000</td>\n",
       "    </tr>\n",
       "    <tr>\n",
       "      <th>25%</th>\n",
       "      <td>1976.000000</td>\n",
       "      <td>102.720000</td>\n",
       "      <td>163.000000</td>\n",
       "      <td>3.740000</td>\n",
       "    </tr>\n",
       "    <tr>\n",
       "      <th>50%</th>\n",
       "      <td>1991.000000</td>\n",
       "      <td>296.040000</td>\n",
       "      <td>346.000000</td>\n",
       "      <td>5.710000</td>\n",
       "    </tr>\n",
       "    <tr>\n",
       "      <th>75%</th>\n",
       "      <td>2006.000000</td>\n",
       "      <td>940.260000</td>\n",
       "      <td>807.000000</td>\n",
       "      <td>7.550000</td>\n",
       "    </tr>\n",
       "    <tr>\n",
       "      <th>max</th>\n",
       "      <td>2021.000000</td>\n",
       "      <td>3173.400000</td>\n",
       "      <td>2277.000000</td>\n",
       "      <td>9.630000</td>\n",
       "    </tr>\n",
       "  </tbody>\n",
       "</table>\n",
       "</div>"
      ],
      "text/plain": [
       "              Year  GDP_In_Billion_USD  Per_Capita_in_USD  Percentage_Growth \n",
       "count    61.000000           61.000000          61.000000           61.000000\n",
       "mean   1991.000000          709.889016         611.163934            5.089344\n",
       "std      17.752934          870.169692         618.757227            3.282711\n",
       "min    1961.000000           39.230000          85.000000           -6.600000\n",
       "25%    1976.000000          102.720000         163.000000            3.740000\n",
       "50%    1991.000000          296.040000         346.000000            5.710000\n",
       "75%    2006.000000          940.260000         807.000000            7.550000\n",
       "max    2021.000000         3173.400000        2277.000000            9.630000"
      ]
     },
     "execution_count": 51,
     "metadata": {},
     "output_type": "execute_result"
    }
   ],
   "source": [
    "df.describe()"
   ]
  },
  {
   "cell_type": "markdown",
   "metadata": {},
   "source": [
    "## Checking the count of NULL values in each column"
   ]
  },
  {
   "cell_type": "code",
   "execution_count": 36,
   "metadata": {},
   "outputs": [
    {
     "data": {
      "text/plain": [
       "Year                   0\n",
       "GDP (in Bn$)           0\n",
       "Per Capita (in USD)    0\n",
       "Percentage_Growth      0\n",
       "dtype: int64"
      ]
     },
     "execution_count": 36,
     "metadata": {},
     "output_type": "execute_result"
    }
   ],
   "source": [
    "df.isnull().sum()"
   ]
  },
  {
   "cell_type": "code",
   "execution_count": 5,
   "metadata": {},
   "outputs": [],
   "source": [
    "df = df.rename({'GDP_In_Billion_USD':'GDP (in Bn$)','Per_Capita_in_USD':'Per Capita (in USD)','Percentage_Growth':'Percentage Growth'}, axis='columns')"
   ]
  },
  {
   "cell_type": "code",
   "execution_count": 7,
   "metadata": {},
   "outputs": [
    {
     "data": {
      "text/plain": [
       "(61, 4)"
      ]
     },
     "execution_count": 7,
     "metadata": {},
     "output_type": "execute_result"
    }
   ],
   "source": [
    "df.shape"
   ]
  },
  {
   "cell_type": "code",
   "execution_count": 8,
   "metadata": {},
   "outputs": [
    {
     "name": "stdout",
     "output_type": "stream",
     "text": [
      "<class 'pandas.core.frame.DataFrame'>\n",
      "RangeIndex: 61 entries, 0 to 60\n",
      "Data columns (total 4 columns):\n",
      " #   Column               Non-Null Count  Dtype  \n",
      "---  ------               --------------  -----  \n",
      " 0   Year                 61 non-null     int64  \n",
      " 1   GDP (in Bn$)         61 non-null     float64\n",
      " 2   Per Capita (in USD)  61 non-null     int64  \n",
      " 3   Percentage_Growth    61 non-null     float64\n",
      "dtypes: float64(2), int64(2)\n",
      "memory usage: 2.0 KB\n"
     ]
    }
   ],
   "source": [
    "df.info()"
   ]
  },
  {
   "cell_type": "code",
   "execution_count": 9,
   "metadata": {
    "scrolled": true
   },
   "outputs": [
    {
     "data": {
      "text/plain": [
       "Year  GDP (in Bn$)  Per Capita (in USD)  Percentage_Growth \n",
       "1961  39.23         85                   3.72                  1\n",
       "1992  288.21        317                  5.48                  1\n",
       "1994  327.28        346                  6.66                  1\n",
       "1995  360.28        374                  7.57                  1\n",
       "1996  392.90        400                  7.55                  1\n",
       "                                                              ..\n",
       "1986  248.99        310                  4.78                  1\n",
       "1987  279.03        340                  3.97                  1\n",
       "1988  296.59        354                  9.63                  1\n",
       "1989  296.04        346                  5.95                  1\n",
       "2021  3173.40       2277                 8.95                  1\n",
       "Name: count, Length: 61, dtype: int64"
      ]
     },
     "execution_count": 9,
     "metadata": {},
     "output_type": "execute_result"
    }
   ],
   "source": [
    "df.value_counts()"
   ]
  },
  {
   "cell_type": "markdown",
   "metadata": {},
   "source": [
    "## Maximum GDP count with year"
   ]
  },
  {
   "cell_type": "code",
   "execution_count": 39,
   "metadata": {},
   "outputs": [
    {
     "name": "stdout",
     "output_type": "stream",
     "text": [
      "In the year 2021, the maximum GDP was $ 3173.4 Billion.\n"
     ]
    }
   ],
   "source": [
    "max_gdp_year = df[\"Year\"].loc[df[\"GDP (in Bn$)\"] == df[\"GDP (in Bn$)\"].max()].values[0]\n",
    "max_gdp_count= df[\"GDP (in Bn$)\"].loc[df[\"GDP (in Bn$)\"]==df[\"GDP (in Bn$)\"].max()].values[0]\n",
    "print(\"In the year {}, the maximum GDP was $ {} Billion.\".format(max_gdp_year,max_gdp_count))"
   ]
  },
  {
   "cell_type": "markdown",
   "metadata": {},
   "source": [
    "## Minimum GDP Count with year"
   ]
  },
  {
   "cell_type": "code",
   "execution_count": 40,
   "metadata": {},
   "outputs": [
    {
     "name": "stdout",
     "output_type": "stream",
     "text": [
      "In the year 1961, the minimum GDP was $ 39.23 Billion.\n"
     ]
    }
   ],
   "source": [
    "min_gdp_year = df[\"Year\"].loc[df[\"GDP (in Bn$)\"] == df[\"GDP (in Bn$)\"].min()].values[0]\n",
    "min_gdp_count=  df[\"GDP (in Bn$)\"].loc[df[\"GDP (in Bn$)\"]==df[\"GDP (in Bn$)\"].min()].values[0]\n",
    "print(\"In the year {}, the minimum GDP was $ {} Billion.\".format(min_gdp_year,min_gdp_count))"
   ]
  },
  {
   "cell_type": "markdown",
   "metadata": {},
   "source": [
    "## Renaming Columns"
   ]
  },
  {
   "cell_type": "code",
   "execution_count": 60,
   "metadata": {},
   "outputs": [],
   "source": [
    "df = df.rename({'GDP_In_Billion_USD':'GDP (in Bn$)','Per_Capita_in_USD':'Per Capita (in USD)'}, axis='columns')"
   ]
  },
  {
   "cell_type": "code",
   "execution_count": 118,
   "metadata": {},
   "outputs": [
    {
     "data": {
      "text/html": [
       "<div>\n",
       "<style scoped>\n",
       "    .dataframe tbody tr th:only-of-type {\n",
       "        vertical-align: middle;\n",
       "    }\n",
       "\n",
       "    .dataframe tbody tr th {\n",
       "        vertical-align: top;\n",
       "    }\n",
       "\n",
       "    .dataframe thead th {\n",
       "        text-align: right;\n",
       "    }\n",
       "</style>\n",
       "<table border=\"1\" class=\"dataframe\">\n",
       "  <thead>\n",
       "    <tr style=\"text-align: right;\">\n",
       "      <th></th>\n",
       "      <th>Year</th>\n",
       "      <th>GDP (in Bn$)</th>\n",
       "      <th>Per Capita (in USD)</th>\n",
       "      <th>Percentage_Growth</th>\n",
       "    </tr>\n",
       "  </thead>\n",
       "  <tbody>\n",
       "    <tr>\n",
       "      <th>0</th>\n",
       "      <td>2021</td>\n",
       "      <td>3173.40</td>\n",
       "      <td>2277</td>\n",
       "      <td>8.95</td>\n",
       "    </tr>\n",
       "    <tr>\n",
       "      <th>1</th>\n",
       "      <td>2020</td>\n",
       "      <td>2667.69</td>\n",
       "      <td>1933</td>\n",
       "      <td>-6.60</td>\n",
       "    </tr>\n",
       "    <tr>\n",
       "      <th>2</th>\n",
       "      <td>2019</td>\n",
       "      <td>2831.55</td>\n",
       "      <td>2072</td>\n",
       "      <td>3.74</td>\n",
       "    </tr>\n",
       "    <tr>\n",
       "      <th>3</th>\n",
       "      <td>2018</td>\n",
       "      <td>2702.93</td>\n",
       "      <td>1998</td>\n",
       "      <td>6.45</td>\n",
       "    </tr>\n",
       "    <tr>\n",
       "      <th>4</th>\n",
       "      <td>2017</td>\n",
       "      <td>2651.47</td>\n",
       "      <td>1981</td>\n",
       "      <td>6.80</td>\n",
       "    </tr>\n",
       "    <tr>\n",
       "      <th>...</th>\n",
       "      <td>...</td>\n",
       "      <td>...</td>\n",
       "      <td>...</td>\n",
       "      <td>...</td>\n",
       "    </tr>\n",
       "    <tr>\n",
       "      <th>56</th>\n",
       "      <td>1965</td>\n",
       "      <td>59.55</td>\n",
       "      <td>119</td>\n",
       "      <td>-2.64</td>\n",
       "    </tr>\n",
       "    <tr>\n",
       "      <th>57</th>\n",
       "      <td>1964</td>\n",
       "      <td>56.48</td>\n",
       "      <td>116</td>\n",
       "      <td>7.45</td>\n",
       "    </tr>\n",
       "    <tr>\n",
       "      <th>58</th>\n",
       "      <td>1963</td>\n",
       "      <td>48.42</td>\n",
       "      <td>101</td>\n",
       "      <td>5.99</td>\n",
       "    </tr>\n",
       "    <tr>\n",
       "      <th>59</th>\n",
       "      <td>1962</td>\n",
       "      <td>42.16</td>\n",
       "      <td>90</td>\n",
       "      <td>2.93</td>\n",
       "    </tr>\n",
       "    <tr>\n",
       "      <th>60</th>\n",
       "      <td>1961</td>\n",
       "      <td>39.23</td>\n",
       "      <td>85</td>\n",
       "      <td>3.72</td>\n",
       "    </tr>\n",
       "  </tbody>\n",
       "</table>\n",
       "<p>61 rows × 4 columns</p>\n",
       "</div>"
      ],
      "text/plain": [
       "    Year  GDP (in Bn$)  Per Capita (in USD)  Percentage_Growth \n",
       "0   2021       3173.40                 2277                8.95\n",
       "1   2020       2667.69                 1933               -6.60\n",
       "2   2019       2831.55                 2072                3.74\n",
       "3   2018       2702.93                 1998                6.45\n",
       "4   2017       2651.47                 1981                6.80\n",
       "..   ...           ...                  ...                 ...\n",
       "56  1965         59.55                  119               -2.64\n",
       "57  1964         56.48                  116                7.45\n",
       "58  1963         48.42                  101                5.99\n",
       "59  1962         42.16                   90                2.93\n",
       "60  1961         39.23                   85                3.72\n",
       "\n",
       "[61 rows x 4 columns]"
      ]
     },
     "execution_count": 118,
     "metadata": {},
     "output_type": "execute_result"
    }
   ],
   "source": [
    "df"
   ]
  },
  {
   "cell_type": "markdown",
   "metadata": {},
   "source": []
  },
  {
   "cell_type": "markdown",
   "metadata": {},
   "source": [
    "## Plotting 'GDP over the years'"
   ]
  },
  {
   "cell_type": "code",
   "execution_count": 32,
   "metadata": {},
   "outputs": [
    {
     "name": "stdout",
     "output_type": "stream",
     "text": [
      "In the year 2021, the maximum GDP was $ 3173.4 Billion.\n"
     ]
    }
   ],
   "source": [
    "max_gdp_year = df[\"Year\"].loc[df[\"GDP (in Bn$)\"] == df[\"GDP (in Bn$)\"].max()].values[0]\n",
    "max_gdp_count= df[\"GDP (in Bn$)\"].values[0]\n",
    "print(\"In the year {}, the maximum GDP was $ {} Billion.\".format(max_gdp_year,max_gdp_count))"
   ]
  },
  {
   "cell_type": "code",
   "execution_count": 49,
   "metadata": {},
   "outputs": [
    {
     "data": {
      "image/png": "[encoded data removed]",
      "text/plain": [
       "<Figure size 640x480 with 1 Axes>"
      ]
     },
     "metadata": {},
     "output_type": "display_data"
    }
   ],
   "source": [
    "sb.set(style=\"darkgrid\")\n",
    "sb.lineplot(x='Year', y='GDP (in Bn$)', data=df)\n",
    "plt.title(\"GDP growth over Years\")\n",
    "plt.xlabel('Years')\n",
    "plt.ylabel('GDP in $')\n",
    "plt.show()"
   ]
  },
  {
   "cell_type": "markdown",
   "metadata": {},
   "source": [
    "## Plotting Per Capita GDP over the years"
   ]
  },
  {
   "cell_type": "code",
   "execution_count": 120,
   "metadata": {},
   "outputs": [
    {
     "ename": "ValueError",
     "evalue": "Could not interpret value `Percentage Growth` for parameter `y`",
     "output_type": "error",
     "traceback": [
      "\u001b[1;31m---------------------------------------------------------------------------\u001b[0m",
      "\u001b[1;31mValueError\u001b[0m                                Traceback (most recent call last)",
      "Cell \u001b[1;32mIn[120], line 2\u001b[0m\n\u001b[0;32m      1\u001b[0m sb\u001b[38;5;241m.\u001b[39mset(style\u001b[38;5;241m=\u001b[39m\u001b[38;5;124m'\u001b[39m\u001b[38;5;124mwhitegrid\u001b[39m\u001b[38;5;124m'\u001b[39m)\n\u001b[1;32m----> 2\u001b[0m \u001b[43msb\u001b[49m\u001b[38;5;241;43m.\u001b[39;49m\u001b[43mlineplot\u001b[49m\u001b[43m(\u001b[49m\u001b[43mx\u001b[49m\u001b[38;5;241;43m=\u001b[39;49m\u001b[38;5;124;43m'\u001b[39;49m\u001b[38;5;124;43mYear\u001b[39;49m\u001b[38;5;124;43m'\u001b[39;49m\u001b[43m,\u001b[49m\u001b[43my\u001b[49m\u001b[38;5;241;43m=\u001b[39;49m\u001b[38;5;124;43m'\u001b[39;49m\u001b[38;5;124;43mPercentage Growth\u001b[39;49m\u001b[38;5;124;43m'\u001b[39;49m\u001b[43m,\u001b[49m\u001b[43m \u001b[49m\u001b[43mdata\u001b[49m\u001b[38;5;241;43m=\u001b[39;49m\u001b[43mdf\u001b[49m\u001b[43m)\u001b[49m\n\u001b[0;32m      3\u001b[0m plt\u001b[38;5;241m.\u001b[39mtitle(\u001b[38;5;124m'\u001b[39m\u001b[38;5;124mPer Capita GDP over the Years\u001b[39m\u001b[38;5;124m'\u001b[39m)\n\u001b[0;32m      4\u001b[0m plt\u001b[38;5;241m.\u001b[39mxlabel(\u001b[38;5;124m'\u001b[39m\u001b[38;5;124mYears\u001b[39m\u001b[38;5;124m'\u001b[39m)\n",
      "File \u001b[1;32m~\\AppData\\Local\\Programs\\Python\\Python311\\Lib\\site-packages\\seaborn\\relational.py:618\u001b[0m, in \u001b[0;36mlineplot\u001b[1;34m(data, x, y, hue, size, style, units, palette, hue_order, hue_norm, sizes, size_order, size_norm, dashes, markers, style_order, estimator, errorbar, n_boot, seed, orient, sort, err_style, err_kws, legend, ci, ax, **kwargs)\u001b[0m\n\u001b[0;32m    615\u001b[0m errorbar \u001b[38;5;241m=\u001b[39m _deprecate_ci(errorbar, ci)\n\u001b[0;32m    617\u001b[0m variables \u001b[38;5;241m=\u001b[39m _LinePlotter\u001b[38;5;241m.\u001b[39mget_semantics(\u001b[38;5;28mlocals\u001b[39m())\n\u001b[1;32m--> 618\u001b[0m p \u001b[38;5;241m=\u001b[39m \u001b[43m_LinePlotter\u001b[49m\u001b[43m(\u001b[49m\n\u001b[0;32m    619\u001b[0m \u001b[43m    \u001b[49m\u001b[43mdata\u001b[49m\u001b[38;5;241;43m=\u001b[39;49m\u001b[43mdata\u001b[49m\u001b[43m,\u001b[49m\u001b[43m \u001b[49m\u001b[43mvariables\u001b[49m\u001b[38;5;241;43m=\u001b[39;49m\u001b[43mvariables\u001b[49m\u001b[43m,\u001b[49m\n\u001b[0;32m    620\u001b[0m \u001b[43m    \u001b[49m\u001b[43mestimator\u001b[49m\u001b[38;5;241;43m=\u001b[39;49m\u001b[43mestimator\u001b[49m\u001b[43m,\u001b[49m\u001b[43m \u001b[49m\u001b[43mn_boot\u001b[49m\u001b[38;5;241;43m=\u001b[39;49m\u001b[43mn_boot\u001b[49m\u001b[43m,\u001b[49m\u001b[43m \u001b[49m\u001b[43mseed\u001b[49m\u001b[38;5;241;43m=\u001b[39;49m\u001b[43mseed\u001b[49m\u001b[43m,\u001b[49m\u001b[43m \u001b[49m\u001b[43merrorbar\u001b[49m\u001b[38;5;241;43m=\u001b[39;49m\u001b[43merrorbar\u001b[49m\u001b[43m,\u001b[49m\n\u001b[0;32m    621\u001b[0m \u001b[43m    \u001b[49m\u001b[43msort\u001b[49m\u001b[38;5;241;43m=\u001b[39;49m\u001b[43msort\u001b[49m\u001b[43m,\u001b[49m\u001b[43m \u001b[49m\u001b[43morient\u001b[49m\u001b[38;5;241;43m=\u001b[39;49m\u001b[43morient\u001b[49m\u001b[43m,\u001b[49m\u001b[43m \u001b[49m\u001b[43merr_style\u001b[49m\u001b[38;5;241;43m=\u001b[39;49m\u001b[43merr_style\u001b[49m\u001b[43m,\u001b[49m\u001b[43m \u001b[49m\u001b[43merr_kws\u001b[49m\u001b[38;5;241;43m=\u001b[39;49m\u001b[43merr_kws\u001b[49m\u001b[43m,\u001b[49m\n\u001b[0;32m    622\u001b[0m \u001b[43m    \u001b[49m\u001b[43mlegend\u001b[49m\u001b[38;5;241;43m=\u001b[39;49m\u001b[43mlegend\u001b[49m\u001b[43m,\u001b[49m\n\u001b[0;32m    623\u001b[0m \u001b[43m\u001b[49m\u001b[43m)\u001b[49m\n\u001b[0;32m    625\u001b[0m p\u001b[38;5;241m.\u001b[39mmap_hue(palette\u001b[38;5;241m=\u001b[39mpalette, order\u001b[38;5;241m=\u001b[39mhue_order, norm\u001b[38;5;241m=\u001b[39mhue_norm)\n\u001b[0;32m    626\u001b[0m p\u001b[38;5;241m.\u001b[39mmap_size(sizes\u001b[38;5;241m=\u001b[39msizes, order\u001b[38;5;241m=\u001b[39msize_order, norm\u001b[38;5;241m=\u001b[39msize_norm)\n",
      "File \u001b[1;32m~\\AppData\\Local\\Programs\\Python\\Python311\\Lib\\site-packages\\seaborn\\relational.py:365\u001b[0m, in \u001b[0;36m_LinePlotter.__init__\u001b[1;34m(self, data, variables, estimator, n_boot, seed, errorbar, sort, orient, err_style, err_kws, legend)\u001b[0m\n\u001b[0;32m    351\u001b[0m \u001b[38;5;28;01mdef\u001b[39;00m \u001b[38;5;21m__init__\u001b[39m(\n\u001b[0;32m    352\u001b[0m     \u001b[38;5;28mself\u001b[39m, \u001b[38;5;241m*\u001b[39m,\n\u001b[0;32m    353\u001b[0m     data\u001b[38;5;241m=\u001b[39m\u001b[38;5;28;01mNone\u001b[39;00m, variables\u001b[38;5;241m=\u001b[39m{},\n\u001b[1;32m   (...)\u001b[0m\n\u001b[0;32m    359\u001b[0m     \u001b[38;5;66;03m# the kind of plot to draw, but for the time being we need to set\u001b[39;00m\n\u001b[0;32m    360\u001b[0m     \u001b[38;5;66;03m# this information so the SizeMapping can use it\u001b[39;00m\n\u001b[0;32m    361\u001b[0m     \u001b[38;5;28mself\u001b[39m\u001b[38;5;241m.\u001b[39m_default_size_range \u001b[38;5;241m=\u001b[39m (\n\u001b[0;32m    362\u001b[0m         np\u001b[38;5;241m.\u001b[39mr_[\u001b[38;5;241m.5\u001b[39m, \u001b[38;5;241m2\u001b[39m] \u001b[38;5;241m*\u001b[39m mpl\u001b[38;5;241m.\u001b[39mrcParams[\u001b[38;5;124m\"\u001b[39m\u001b[38;5;124mlines.linewidth\u001b[39m\u001b[38;5;124m\"\u001b[39m]\n\u001b[0;32m    363\u001b[0m     )\n\u001b[1;32m--> 365\u001b[0m     \u001b[38;5;28;43msuper\u001b[39;49m\u001b[43m(\u001b[49m\u001b[43m)\u001b[49m\u001b[38;5;241;43m.\u001b[39;49m\u001b[38;5;21;43m__init__\u001b[39;49m\u001b[43m(\u001b[49m\u001b[43mdata\u001b[49m\u001b[38;5;241;43m=\u001b[39;49m\u001b[43mdata\u001b[49m\u001b[43m,\u001b[49m\u001b[43m \u001b[49m\u001b[43mvariables\u001b[49m\u001b[38;5;241;43m=\u001b[39;49m\u001b[43mvariables\u001b[49m\u001b[43m)\u001b[49m\n\u001b[0;32m    367\u001b[0m     \u001b[38;5;28mself\u001b[39m\u001b[38;5;241m.\u001b[39mestimator \u001b[38;5;241m=\u001b[39m estimator\n\u001b[0;32m    368\u001b[0m     \u001b[38;5;28mself\u001b[39m\u001b[38;5;241m.\u001b[39merrorbar \u001b[38;5;241m=\u001b[39m errorbar\n",
      "File \u001b[1;32m~\\AppData\\Local\\Programs\\Python\\Python311\\Lib\\site-packages\\seaborn\\_oldcore.py:640\u001b[0m, in \u001b[0;36mVectorPlotter.__init__\u001b[1;34m(self, data, variables)\u001b[0m\n\u001b[0;32m    635\u001b[0m \u001b[38;5;66;03m# var_ordered is relevant only for categorical axis variables, and may\u001b[39;00m\n\u001b[0;32m    636\u001b[0m \u001b[38;5;66;03m# be better handled by an internal axis information object that tracks\u001b[39;00m\n\u001b[0;32m    637\u001b[0m \u001b[38;5;66;03m# such information and is set up by the scale_* methods. The analogous\u001b[39;00m\n\u001b[0;32m    638\u001b[0m \u001b[38;5;66;03m# information for numeric axes would be information about log scales.\u001b[39;00m\n\u001b[0;32m    639\u001b[0m \u001b[38;5;28mself\u001b[39m\u001b[38;5;241m.\u001b[39m_var_ordered \u001b[38;5;241m=\u001b[39m {\u001b[38;5;124m\"\u001b[39m\u001b[38;5;124mx\u001b[39m\u001b[38;5;124m\"\u001b[39m: \u001b[38;5;28;01mFalse\u001b[39;00m, \u001b[38;5;124m\"\u001b[39m\u001b[38;5;124my\u001b[39m\u001b[38;5;124m\"\u001b[39m: \u001b[38;5;28;01mFalse\u001b[39;00m}  \u001b[38;5;66;03m# alt., used DefaultDict\u001b[39;00m\n\u001b[1;32m--> 640\u001b[0m \u001b[38;5;28;43mself\u001b[39;49m\u001b[38;5;241;43m.\u001b[39;49m\u001b[43massign_variables\u001b[49m\u001b[43m(\u001b[49m\u001b[43mdata\u001b[49m\u001b[43m,\u001b[49m\u001b[43m \u001b[49m\u001b[43mvariables\u001b[49m\u001b[43m)\u001b[49m\n\u001b[0;32m    642\u001b[0m \u001b[38;5;28;01mfor\u001b[39;00m var, \u001b[38;5;28mcls\u001b[39m \u001b[38;5;129;01min\u001b[39;00m \u001b[38;5;28mself\u001b[39m\u001b[38;5;241m.\u001b[39m_semantic_mappings\u001b[38;5;241m.\u001b[39mitems():\n\u001b[0;32m    643\u001b[0m \n\u001b[0;32m    644\u001b[0m     \u001b[38;5;66;03m# Create the mapping function\u001b[39;00m\n\u001b[0;32m    645\u001b[0m     map_func \u001b[38;5;241m=\u001b[39m partial(\u001b[38;5;28mcls\u001b[39m\u001b[38;5;241m.\u001b[39mmap, plotter\u001b[38;5;241m=\u001b[39m\u001b[38;5;28mself\u001b[39m)\n",
      "File \u001b[1;32m~\\AppData\\Local\\Programs\\Python\\Python311\\Lib\\site-packages\\seaborn\\_oldcore.py:701\u001b[0m, in \u001b[0;36mVectorPlotter.assign_variables\u001b[1;34m(self, data, variables)\u001b[0m\n\u001b[0;32m    699\u001b[0m \u001b[38;5;28;01melse\u001b[39;00m:\n\u001b[0;32m    700\u001b[0m     \u001b[38;5;28mself\u001b[39m\u001b[38;5;241m.\u001b[39minput_format \u001b[38;5;241m=\u001b[39m \u001b[38;5;124m\"\u001b[39m\u001b[38;5;124mlong\u001b[39m\u001b[38;5;124m\"\u001b[39m\n\u001b[1;32m--> 701\u001b[0m     plot_data, variables \u001b[38;5;241m=\u001b[39m \u001b[38;5;28;43mself\u001b[39;49m\u001b[38;5;241;43m.\u001b[39;49m\u001b[43m_assign_variables_longform\u001b[49m\u001b[43m(\u001b[49m\n\u001b[0;32m    702\u001b[0m \u001b[43m        \u001b[49m\u001b[43mdata\u001b[49m\u001b[43m,\u001b[49m\u001b[43m \u001b[49m\u001b[38;5;241;43m*\u001b[39;49m\u001b[38;5;241;43m*\u001b[39;49m\u001b[43mvariables\u001b[49m\u001b[43m,\u001b[49m\n\u001b[0;32m    703\u001b[0m \u001b[43m    \u001b[49m\u001b[43m)\u001b[49m\n\u001b[0;32m    705\u001b[0m \u001b[38;5;28mself\u001b[39m\u001b[38;5;241m.\u001b[39mplot_data \u001b[38;5;241m=\u001b[39m plot_data\n\u001b[0;32m    706\u001b[0m \u001b[38;5;28mself\u001b[39m\u001b[38;5;241m.\u001b[39mvariables \u001b[38;5;241m=\u001b[39m variables\n",
      "File \u001b[1;32m~\\AppData\\Local\\Programs\\Python\\Python311\\Lib\\site-packages\\seaborn\\_oldcore.py:938\u001b[0m, in \u001b[0;36mVectorPlotter._assign_variables_longform\u001b[1;34m(self, data, **kwargs)\u001b[0m\n\u001b[0;32m    933\u001b[0m \u001b[38;5;28;01melif\u001b[39;00m \u001b[38;5;28misinstance\u001b[39m(val, (\u001b[38;5;28mstr\u001b[39m, \u001b[38;5;28mbytes\u001b[39m)):\n\u001b[0;32m    934\u001b[0m \n\u001b[0;32m    935\u001b[0m     \u001b[38;5;66;03m# This looks like a column name but we don't know what it means!\u001b[39;00m\n\u001b[0;32m    937\u001b[0m     err \u001b[38;5;241m=\u001b[39m \u001b[38;5;124mf\u001b[39m\u001b[38;5;124m\"\u001b[39m\u001b[38;5;124mCould not interpret value `\u001b[39m\u001b[38;5;132;01m{\u001b[39;00mval\u001b[38;5;132;01m}\u001b[39;00m\u001b[38;5;124m` for parameter `\u001b[39m\u001b[38;5;132;01m{\u001b[39;00mkey\u001b[38;5;132;01m}\u001b[39;00m\u001b[38;5;124m`\u001b[39m\u001b[38;5;124m\"\u001b[39m\n\u001b[1;32m--> 938\u001b[0m     \u001b[38;5;28;01mraise\u001b[39;00m \u001b[38;5;167;01mValueError\u001b[39;00m(err)\n\u001b[0;32m    940\u001b[0m \u001b[38;5;28;01melse\u001b[39;00m:\n\u001b[0;32m    941\u001b[0m \n\u001b[0;32m    942\u001b[0m     \u001b[38;5;66;03m# Otherwise, assume the value is itself data\u001b[39;00m\n\u001b[0;32m    943\u001b[0m \n\u001b[0;32m    944\u001b[0m     \u001b[38;5;66;03m# Raise when data object is present and a vector can't matched\u001b[39;00m\n\u001b[0;32m    945\u001b[0m     \u001b[38;5;28;01mif\u001b[39;00m \u001b[38;5;28misinstance\u001b[39m(data, pd\u001b[38;5;241m.\u001b[39mDataFrame) \u001b[38;5;129;01mand\u001b[39;00m \u001b[38;5;129;01mnot\u001b[39;00m \u001b[38;5;28misinstance\u001b[39m(val, pd\u001b[38;5;241m.\u001b[39mSeries):\n",
      "\u001b[1;31mValueError\u001b[0m: Could not interpret value `Percentage Growth` for parameter `y`"
     ]
    }
   ],
   "source": [
    "sb.set(style='whitegrid')\n",
    "sb.lineplot(x='Year',y='Percentage Growth', data=df)\n",
    "plt.title('Per Capita GDP over the Years')\n",
    "plt.xlabel('Years')\n",
    "plt.ylabel('Percentage Growth')\n",
    "plt.show()"
   ]
  },
  {
   "cell_type": "markdown",
   "metadata": {},
   "source": [
    "## Importing new Dataset with State GDP Contribution"
   ]
  },
  {
   "cell_type": "code",
   "execution_count": 55,
   "metadata": {
    "scrolled": true
   },
   "outputs": [
    {
     "name": "stdout",
     "output_type": "stream",
     "text": [
      "    Rank              State GSDP (Cr INR at Current prices) in 19-20   \n",
      "0    1.0        Maharashtra                                2,878,583  \\\n",
      "1    2.0         Tamil Nadu                                1,845,853   \n",
      "2    3.0      Uttar Pradesh                                1,687,818   \n",
      "3    4.0            Gujarat                                1,701,495   \n",
      "4    5.0          Karnataka                                1,631,977   \n",
      "5    6.0        West Bengal                                1,253,832   \n",
      "6    7.0          Rajasthan                                1,020,989   \n",
      "7    8.0     Andhra Pradesh                                  972,782   \n",
      "8    9.0          Telangana                                  969,604   \n",
      "9   10.0     Madhya Pradesh                                  906,672   \n",
      "10  11.0             Kerala                                  875,514   \n",
      "11  12.0              Delhi                                  856,112   \n",
      "12  13.0            Haryana                                  831,610   \n",
      "13  14.0              Bihar                                  611,804   \n",
      "14  15.0             Punjab                                  574,760   \n",
      "15  16.0             Odisha                                  521,275   \n",
      "16  17.0              Assam                                  374,096   \n",
      "17  18.0       Chhattisgarh                                  329,180   \n",
      "18  19.0          Jharkhand                                  328,598   \n",
      "19  20.0        Uttarakhand                                  263,233   \n",
      "20  21.0    Jammu & Kashmir                                  182,698   \n",
      "21  22.0   Himachal Pradesh                                  165,472   \n",
      "22  23.0                Goa                                   80,449   \n",
      "23  24.0            Tripura                                   55,984   \n",
      "24  25.0         Chandigarh                                   48,214   \n",
      "25  26.0         Puducherry                                   38,253   \n",
      "26  27.0          Meghalaya                                   36,572   \n",
      "27  28.0             Sikkim                                   32,496   \n",
      "28  29.0            Manipur                                   31,790   \n",
      "29  30.0           Nagaland                                   30,896   \n",
      "30  31.0  Arunachal Pradesh                                   28,695   \n",
      "31  32.0            Mizoram                                   26,503   \n",
      "32   NaN                NaN                                      NaN   \n",
      "33   NaN                NaN                                      NaN   \n",
      "\n",
      "   GSDP (Cr INR at Current prices) in 18-19   Share  GDP ($billion)   \n",
      "0                                 2,632,792  13.88%         398.145  \\\n",
      "1                                 1,630,208   8.59%         246.529   \n",
      "2                                 1,584,764   8.35%         239.656   \n",
      "3                                 1,502,899   7.92%         227.276   \n",
      "4                                 1,493,127   7.87%         225.798   \n",
      "5                                 1,089,898   5.75%         164.820   \n",
      "6                                   942,586   4.97%         142.543   \n",
      "7                                   862,957   4.55%         130.501   \n",
      "8                                   861,031   4.54%         130.210   \n",
      "9                                   809,592   4.27%         122.431   \n",
      "10                                  781,653   4.12%         118.206   \n",
      "11                                  774,870   4.08%         117.180   \n",
      "12                                  734,163   3.87%         111.024   \n",
      "13                                  530,363   2.80%          80.204   \n",
      "14                                  526,376   2.77%          79.601   \n",
      "15                                  487,805   2.57%          73.768   \n",
      "16                                  315,881   1.67%          47.769   \n",
      "17                                  304,063   1.60%          45.982   \n",
      "18                                  297,204   1.57%          44.945   \n",
      "19                                  245,895   1.30%          37.186   \n",
      "20                                  155,956   0.82%          23.584   \n",
      "21                                  153,845   0.81%          23.265   \n",
      "22                                   73,170   0.39%          11.065   \n",
      "23                                   49,845   0.26%           7.538   \n",
      "24                                   42,114   0.22%           6.369   \n",
      "25                                   34,433   0.18%           5.207   \n",
      "26                                   33,481   0.18%           5.063   \n",
      "27                                   28,723   0.15%           4.344   \n",
      "28                                   27,870   0.15%           4.215   \n",
      "29                                   27,283   0.14%           4.126   \n",
      "30                                   24,603   0.13%           3.721   \n",
      "31                                   22,287   0.12%           3.370   \n",
      "32                                      NaN     NaN             NaN   \n",
      "33                                      NaN     NaN             NaN   \n",
      "\n",
      "   GSDP (Cr INR at 2011-12 prices) in 19-20   \n",
      "0                                 2,818,555  \\\n",
      "1                                 1,312,929   \n",
      "2                                 1,166,817   \n",
      "3                                   188,303   \n",
      "4                                 1,156,039   \n",
      "5                                   793,223   \n",
      "6                                   711,627   \n",
      "7                                   672,018   \n",
      "8                                   663,258   \n",
      "9                                   561,801   \n",
      "10                                  854,689   \n",
      "11                                  634,408   \n",
      "12                                  572,240   \n",
      "13                                  414,977   \n",
      "14                                  418,868   \n",
      "15                                  396,499   \n",
      "16                                  351,318   \n",
      "17                                  243,477   \n",
      "18                                  240,036   \n",
      "19                                  253,666   \n",
      "20                                  176,282   \n",
      "21                                  124,403   \n",
      "22                                   63,408   \n",
      "23                                   40,583   \n",
      "24                                   42,114   \n",
      "25                                   25,093   \n",
      "26                                   26,695   \n",
      "27                                   20,017   \n",
      "28                                   20,673   \n",
      "29                                   19,327   \n",
      "30                                   27,377   \n",
      "31                                   18,797   \n",
      "32                                      NaN   \n",
      "33                                      NaN   \n",
      "\n",
      "   GSDP (Cr INR at 2011-12 prices) in 18-19  \n",
      "0                                 2,039,074  \n",
      "1                                 1,215,307  \n",
      "2                                 1,123,982  \n",
      "3                                 1,186,379  \n",
      "4                                 1,091,077  \n",
      "5                                   739,525  \n",
      "6                                   677,428  \n",
      "7                                   621,301  \n",
      "8                                   612,828  \n",
      "9                                   522,009  \n",
      "10                                  559,412  \n",
      "11                                  590,569  \n",
      "12                                  531,085  \n",
      "13                                  375,651  \n",
      "14                                  397,669  \n",
      "15                                  376,877  \n",
      "16                                  234,048  \n",
      "17                                  231,182  \n",
      "18                                  224,986  \n",
      "19                                  193,273  \n",
      "20                                  112,755  \n",
      "21                                  117,851  \n",
      "22                                   57,787  \n",
      "23                                   36,963  \n",
      "24                                   31,192  \n",
      "25                                   23,013  \n",
      "26                                   24,682  \n",
      "27                                   18,722  \n",
      "28                                   19,300  \n",
      "29                                   17,647  \n",
      "30                                   16,676  \n",
      "31                                   16,478  \n",
      "32                                      NaN  \n",
      "33                                      NaN  \n"
     ]
    }
   ],
   "source": [
    "df1= pd.read_csv(r'C:\\Users\\vedsm\\OneDrive\\Desktop\\India_GDP_Analysis\\Datasets\\CSV_files\\GDP_contribution_Statewise.csv')\n",
    "print(df1)"
   ]
  },
  {
   "cell_type": "code",
   "execution_count": 56,
   "metadata": {},
   "outputs": [
    {
     "data": {
      "text/plain": [
       "Rank                                        2\n",
       "State                                       2\n",
       "GSDP (Cr INR at Current prices) in 19-20    2\n",
       "GSDP (Cr INR at Current prices) in 18-19    2\n",
       "Share                                       2\n",
       "GDP ($billion)                              2\n",
       "GSDP (Cr INR at 2011-12 prices) in 19-20    2\n",
       "GSDP (Cr INR at 2011-12 prices) in 18-19    2\n",
       "dtype: int64"
      ]
     },
     "execution_count": 56,
     "metadata": {},
     "output_type": "execute_result"
    }
   ],
   "source": [
    "df1.isna().sum()"
   ]
  },
  {
   "cell_type": "code",
   "execution_count": 57,
   "metadata": {
    "scrolled": true
   },
   "outputs": [
    {
     "data": {
      "text/plain": [
       "Rank                                        2\n",
       "State                                       2\n",
       "GSDP (Cr INR at Current prices) in 19-20    2\n",
       "GSDP (Cr INR at Current prices) in 18-19    2\n",
       "Share                                       2\n",
       "GDP ($billion)                              2\n",
       "GSDP (Cr INR at 2011-12 prices) in 19-20    2\n",
       "GSDP (Cr INR at 2011-12 prices) in 18-19    2\n",
       "dtype: int64"
      ]
     },
     "execution_count": 57,
     "metadata": {},
     "output_type": "execute_result"
    }
   ],
   "source": [
    "df1.isnull().sum()"
   ]
  },
  {
   "cell_type": "markdown",
   "metadata": {},
   "source": [
    "## Removing Rows that contains NULL values"
   ]
  },
  {
   "cell_type": "code",
   "execution_count": 62,
   "metadata": {},
   "outputs": [
    {
     "data": {
      "text/html": [
       "<div>\n",
       "<style scoped>\n",
       "    .dataframe tbody tr th:only-of-type {\n",
       "        vertical-align: middle;\n",
       "    }\n",
       "\n",
       "    .dataframe tbody tr th {\n",
       "        vertical-align: top;\n",
       "    }\n",
       "\n",
       "    .dataframe thead th {\n",
       "        text-align: right;\n",
       "    }\n",
       "</style>\n",
       "<table border=\"1\" class=\"dataframe\">\n",
       "  <thead>\n",
       "    <tr style=\"text-align: right;\">\n",
       "      <th></th>\n",
       "      <th>Rank</th>\n",
       "      <th>State</th>\n",
       "      <th>GSDP (Cr INR at Current prices) in 19-20</th>\n",
       "      <th>GSDP (Cr INR at Current prices) in 18-19</th>\n",
       "      <th>Share</th>\n",
       "      <th>GDP ($billion)</th>\n",
       "      <th>GSDP (Cr INR at 2011-12 prices) in 19-20</th>\n",
       "      <th>GSDP (Cr INR at 2011-12 prices) in 18-19</th>\n",
       "    </tr>\n",
       "  </thead>\n",
       "  <tbody>\n",
       "    <tr>\n",
       "      <th>0</th>\n",
       "      <td>1.0</td>\n",
       "      <td>Maharashtra</td>\n",
       "      <td>2,878,583</td>\n",
       "      <td>2,632,792</td>\n",
       "      <td>13.88%</td>\n",
       "      <td>398.145</td>\n",
       "      <td>2,818,555</td>\n",
       "      <td>2,039,074</td>\n",
       "    </tr>\n",
       "    <tr>\n",
       "      <th>1</th>\n",
       "      <td>2.0</td>\n",
       "      <td>Tamil Nadu</td>\n",
       "      <td>1,845,853</td>\n",
       "      <td>1,630,208</td>\n",
       "      <td>8.59%</td>\n",
       "      <td>246.529</td>\n",
       "      <td>1,312,929</td>\n",
       "      <td>1,215,307</td>\n",
       "    </tr>\n",
       "    <tr>\n",
       "      <th>2</th>\n",
       "      <td>3.0</td>\n",
       "      <td>Uttar Pradesh</td>\n",
       "      <td>1,687,818</td>\n",
       "      <td>1,584,764</td>\n",
       "      <td>8.35%</td>\n",
       "      <td>239.656</td>\n",
       "      <td>1,166,817</td>\n",
       "      <td>1,123,982</td>\n",
       "    </tr>\n",
       "    <tr>\n",
       "      <th>3</th>\n",
       "      <td>4.0</td>\n",
       "      <td>Gujarat</td>\n",
       "      <td>1,701,495</td>\n",
       "      <td>1,502,899</td>\n",
       "      <td>7.92%</td>\n",
       "      <td>227.276</td>\n",
       "      <td>188,303</td>\n",
       "      <td>1,186,379</td>\n",
       "    </tr>\n",
       "    <tr>\n",
       "      <th>4</th>\n",
       "      <td>5.0</td>\n",
       "      <td>Karnataka</td>\n",
       "      <td>1,631,977</td>\n",
       "      <td>1,493,127</td>\n",
       "      <td>7.87%</td>\n",
       "      <td>225.798</td>\n",
       "      <td>1,156,039</td>\n",
       "      <td>1,091,077</td>\n",
       "    </tr>\n",
       "  </tbody>\n",
       "</table>\n",
       "</div>"
      ],
      "text/plain": [
       "   Rank          State GSDP (Cr INR at Current prices) in 19-20   \n",
       "0   1.0    Maharashtra                                2,878,583  \\\n",
       "1   2.0     Tamil Nadu                                1,845,853   \n",
       "2   3.0  Uttar Pradesh                                1,687,818   \n",
       "3   4.0        Gujarat                                1,701,495   \n",
       "4   5.0      Karnataka                                1,631,977   \n",
       "\n",
       "  GSDP (Cr INR at Current prices) in 18-19   Share  GDP ($billion)   \n",
       "0                                2,632,792  13.88%         398.145  \\\n",
       "1                                1,630,208   8.59%         246.529   \n",
       "2                                1,584,764   8.35%         239.656   \n",
       "3                                1,502,899   7.92%         227.276   \n",
       "4                                1,493,127   7.87%         225.798   \n",
       "\n",
       "  GSDP (Cr INR at 2011-12 prices) in 19-20   \n",
       "0                                2,818,555  \\\n",
       "1                                1,312,929   \n",
       "2                                1,166,817   \n",
       "3                                  188,303   \n",
       "4                                1,156,039   \n",
       "\n",
       "  GSDP (Cr INR at 2011-12 prices) in 18-19  \n",
       "0                                2,039,074  \n",
       "1                                1,215,307  \n",
       "2                                1,123,982  \n",
       "3                                1,186,379  \n",
       "4                                1,091,077  "
      ]
     },
     "execution_count": 62,
     "metadata": {},
     "output_type": "execute_result"
    }
   ],
   "source": [
    "df1 = df1.dropna()\n",
    "df1.head()"
   ]
  },
  {
   "cell_type": "code",
   "execution_count": 63,
   "metadata": {
    "scrolled": true
   },
   "outputs": [
    {
     "data": {
      "text/html": [
       "<div>\n",
       "<style scoped>\n",
       "    .dataframe tbody tr th:only-of-type {\n",
       "        vertical-align: middle;\n",
       "    }\n",
       "\n",
       "    .dataframe tbody tr th {\n",
       "        vertical-align: top;\n",
       "    }\n",
       "\n",
       "    .dataframe thead th {\n",
       "        text-align: right;\n",
       "    }\n",
       "</style>\n",
       "<table border=\"1\" class=\"dataframe\">\n",
       "  <thead>\n",
       "    <tr style=\"text-align: right;\">\n",
       "      <th></th>\n",
       "      <th>Rank</th>\n",
       "      <th>State</th>\n",
       "      <th>GSDP (Cr INR at Current prices) in 19-20</th>\n",
       "      <th>GSDP (Cr INR at Current prices) in 18-19</th>\n",
       "      <th>Share</th>\n",
       "      <th>GDP ($billion)</th>\n",
       "      <th>GSDP (Cr INR at 2011-12 prices) in 19-20</th>\n",
       "      <th>GSDP (Cr INR at 2011-12 prices) in 18-19</th>\n",
       "    </tr>\n",
       "  </thead>\n",
       "  <tbody>\n",
       "    <tr>\n",
       "      <th>27</th>\n",
       "      <td>28.0</td>\n",
       "      <td>Sikkim</td>\n",
       "      <td>32,496</td>\n",
       "      <td>28,723</td>\n",
       "      <td>0.15%</td>\n",
       "      <td>4.344</td>\n",
       "      <td>20,017</td>\n",
       "      <td>18,722</td>\n",
       "    </tr>\n",
       "    <tr>\n",
       "      <th>28</th>\n",
       "      <td>29.0</td>\n",
       "      <td>Manipur</td>\n",
       "      <td>31,790</td>\n",
       "      <td>27,870</td>\n",
       "      <td>0.15%</td>\n",
       "      <td>4.215</td>\n",
       "      <td>20,673</td>\n",
       "      <td>19,300</td>\n",
       "    </tr>\n",
       "    <tr>\n",
       "      <th>29</th>\n",
       "      <td>30.0</td>\n",
       "      <td>Nagaland</td>\n",
       "      <td>30,896</td>\n",
       "      <td>27,283</td>\n",
       "      <td>0.14%</td>\n",
       "      <td>4.126</td>\n",
       "      <td>19,327</td>\n",
       "      <td>17,647</td>\n",
       "    </tr>\n",
       "    <tr>\n",
       "      <th>30</th>\n",
       "      <td>31.0</td>\n",
       "      <td>Arunachal Pradesh</td>\n",
       "      <td>28,695</td>\n",
       "      <td>24,603</td>\n",
       "      <td>0.13%</td>\n",
       "      <td>3.721</td>\n",
       "      <td>27,377</td>\n",
       "      <td>16,676</td>\n",
       "    </tr>\n",
       "    <tr>\n",
       "      <th>31</th>\n",
       "      <td>32.0</td>\n",
       "      <td>Mizoram</td>\n",
       "      <td>26,503</td>\n",
       "      <td>22,287</td>\n",
       "      <td>0.12%</td>\n",
       "      <td>3.370</td>\n",
       "      <td>18,797</td>\n",
       "      <td>16,478</td>\n",
       "    </tr>\n",
       "  </tbody>\n",
       "</table>\n",
       "</div>"
      ],
      "text/plain": [
       "    Rank              State GSDP (Cr INR at Current prices) in 19-20   \n",
       "27  28.0             Sikkim                                   32,496  \\\n",
       "28  29.0            Manipur                                   31,790   \n",
       "29  30.0           Nagaland                                   30,896   \n",
       "30  31.0  Arunachal Pradesh                                   28,695   \n",
       "31  32.0            Mizoram                                   26,503   \n",
       "\n",
       "   GSDP (Cr INR at Current prices) in 18-19  Share  GDP ($billion)   \n",
       "27                                   28,723  0.15%           4.344  \\\n",
       "28                                   27,870  0.15%           4.215   \n",
       "29                                   27,283  0.14%           4.126   \n",
       "30                                   24,603  0.13%           3.721   \n",
       "31                                   22,287  0.12%           3.370   \n",
       "\n",
       "   GSDP (Cr INR at 2011-12 prices) in 19-20   \n",
       "27                                   20,017  \\\n",
       "28                                   20,673   \n",
       "29                                   19,327   \n",
       "30                                   27,377   \n",
       "31                                   18,797   \n",
       "\n",
       "   GSDP (Cr INR at 2011-12 prices) in 18-19  \n",
       "27                                   18,722  \n",
       "28                                   19,300  \n",
       "29                                   17,647  \n",
       "30                                   16,676  \n",
       "31                                   16,478  "
      ]
     },
     "execution_count": 63,
     "metadata": {},
     "output_type": "execute_result"
    }
   ],
   "source": [
    "df1.tail()"
   ]
  },
  {
   "cell_type": "markdown",
   "metadata": {},
   "source": [
    "## Checking NULL values"
   ]
  },
  {
   "cell_type": "code",
   "execution_count": 66,
   "metadata": {},
   "outputs": [
    {
     "data": {
      "text/plain": [
       "Rank                                        0\n",
       "State                                       0\n",
       "GSDP (Cr INR at Current prices) in 19-20    0\n",
       "GSDP (Cr INR at Current prices) in 18-19    0\n",
       "Share                                       0\n",
       "GDP ($billion)                              0\n",
       "GSDP (Cr INR at 2011-12 prices) in 19-20    0\n",
       "GSDP (Cr INR at 2011-12 prices) in 18-19    0\n",
       "dtype: int64"
      ]
     },
     "execution_count": 66,
     "metadata": {},
     "output_type": "execute_result"
    }
   ],
   "source": [
    "df1.isna().sum()"
   ]
  },
  {
   "cell_type": "code",
   "execution_count": 67,
   "metadata": {},
   "outputs": [
    {
     "name": "stdout",
     "output_type": "stream",
     "text": [
      "<class 'pandas.core.frame.DataFrame'>\n",
      "Index: 32 entries, 0 to 31\n",
      "Data columns (total 8 columns):\n",
      " #   Column                                    Non-Null Count  Dtype  \n",
      "---  ------                                    --------------  -----  \n",
      " 0   Rank                                      32 non-null     float64\n",
      " 1   State                                     32 non-null     object \n",
      " 2   GSDP (Cr INR at Current prices) in 19-20  32 non-null     object \n",
      " 3   GSDP (Cr INR at Current prices) in 18-19  32 non-null     object \n",
      " 4   Share                                     32 non-null     object \n",
      " 5   GDP ($billion)                            32 non-null     float64\n",
      " 6   GSDP (Cr INR at 2011-12 prices) in 19-20  32 non-null     object \n",
      " 7   GSDP (Cr INR at 2011-12 prices) in 18-19  32 non-null     object \n",
      "dtypes: float64(2), object(6)\n",
      "memory usage: 2.2+ KB\n"
     ]
    }
   ],
   "source": [
    "df1.info()"
   ]
  },
  {
   "cell_type": "markdown",
   "metadata": {},
   "source": [
    "## Changing DataType of State Column from object to String and other with int\n"
   ]
  },
  {
   "cell_type": "code",
   "execution_count": 90,
   "metadata": {},
   "outputs": [],
   "source": [
    "df1['State'] = df1['State'].str.strip().astype(str)\n"
   ]
  },
  {
   "cell_type": "code",
   "execution_count": 88,
   "metadata": {},
   "outputs": [],
   "source": [
    "df1['GSDP (Cr INR at Current prices) in 19-20'] = df1['GSDP (Cr INR at Current prices) in 19-20'].str.replace(',', '').astype(int)"
   ]
  },
  {
   "cell_type": "code",
   "execution_count": 96,
   "metadata": {
    "collapsed": true
   },
   "outputs": [
    {
     "ename": "AttributeError",
     "evalue": "Can only use .str accessor with string values!",
     "output_type": "error",
     "traceback": [
      "\u001b[1;31m---------------------------------------------------------------------------\u001b[0m",
      "\u001b[1;31mAttributeError\u001b[0m                            Traceback (most recent call last)",
      "Cell \u001b[1;32mIn[96], line 1\u001b[0m\n\u001b[1;32m----> 1\u001b[0m df1[\u001b[38;5;124m'\u001b[39m\u001b[38;5;124mGSDP (Cr INR at Current prices) in 18-19\u001b[39m\u001b[38;5;124m'\u001b[39m] \u001b[38;5;241m=\u001b[39m \u001b[43mdf1\u001b[49m\u001b[43m[\u001b[49m\u001b[38;5;124;43m'\u001b[39;49m\u001b[38;5;124;43mGSDP (Cr INR at Current prices) in 18-19\u001b[39;49m\u001b[38;5;124;43m'\u001b[39;49m\u001b[43m]\u001b[49m\u001b[38;5;241;43m.\u001b[39;49m\u001b[43mstr\u001b[49m\u001b[38;5;241m.\u001b[39mreplace(\u001b[38;5;124m'\u001b[39m\u001b[38;5;124m,\u001b[39m\u001b[38;5;124m'\u001b[39m, \u001b[38;5;124m'\u001b[39m\u001b[38;5;124m'\u001b[39m)\u001b[38;5;241m.\u001b[39mastype(\u001b[38;5;28mint\u001b[39m)\n",
      "File \u001b[1;32m~\\AppData\\Local\\Programs\\Python\\Python311\\Lib\\site-packages\\pandas\\core\\generic.py:5989\u001b[0m, in \u001b[0;36mNDFrame.__getattr__\u001b[1;34m(self, name)\u001b[0m\n\u001b[0;32m   5982\u001b[0m \u001b[38;5;28;01mif\u001b[39;00m (\n\u001b[0;32m   5983\u001b[0m     name \u001b[38;5;129;01mnot\u001b[39;00m \u001b[38;5;129;01min\u001b[39;00m \u001b[38;5;28mself\u001b[39m\u001b[38;5;241m.\u001b[39m_internal_names_set\n\u001b[0;32m   5984\u001b[0m     \u001b[38;5;129;01mand\u001b[39;00m name \u001b[38;5;129;01mnot\u001b[39;00m \u001b[38;5;129;01min\u001b[39;00m \u001b[38;5;28mself\u001b[39m\u001b[38;5;241m.\u001b[39m_metadata\n\u001b[0;32m   5985\u001b[0m     \u001b[38;5;129;01mand\u001b[39;00m name \u001b[38;5;129;01mnot\u001b[39;00m \u001b[38;5;129;01min\u001b[39;00m \u001b[38;5;28mself\u001b[39m\u001b[38;5;241m.\u001b[39m_accessors\n\u001b[0;32m   5986\u001b[0m     \u001b[38;5;129;01mand\u001b[39;00m \u001b[38;5;28mself\u001b[39m\u001b[38;5;241m.\u001b[39m_info_axis\u001b[38;5;241m.\u001b[39m_can_hold_identifiers_and_holds_name(name)\n\u001b[0;32m   5987\u001b[0m ):\n\u001b[0;32m   5988\u001b[0m     \u001b[38;5;28;01mreturn\u001b[39;00m \u001b[38;5;28mself\u001b[39m[name]\n\u001b[1;32m-> 5989\u001b[0m \u001b[38;5;28;01mreturn\u001b[39;00m \u001b[38;5;28;43mobject\u001b[39;49m\u001b[38;5;241;43m.\u001b[39;49m\u001b[38;5;21;43m__getattribute__\u001b[39;49m\u001b[43m(\u001b[49m\u001b[38;5;28;43mself\u001b[39;49m\u001b[43m,\u001b[49m\u001b[43m \u001b[49m\u001b[43mname\u001b[49m\u001b[43m)\u001b[49m\n",
      "File \u001b[1;32m~\\AppData\\Local\\Programs\\Python\\Python311\\Lib\\site-packages\\pandas\\core\\accessor.py:224\u001b[0m, in \u001b[0;36mCachedAccessor.__get__\u001b[1;34m(self, obj, cls)\u001b[0m\n\u001b[0;32m    221\u001b[0m \u001b[38;5;28;01mif\u001b[39;00m obj \u001b[38;5;129;01mis\u001b[39;00m \u001b[38;5;28;01mNone\u001b[39;00m:\n\u001b[0;32m    222\u001b[0m     \u001b[38;5;66;03m# we're accessing the attribute of the class, i.e., Dataset.geo\u001b[39;00m\n\u001b[0;32m    223\u001b[0m     \u001b[38;5;28;01mreturn\u001b[39;00m \u001b[38;5;28mself\u001b[39m\u001b[38;5;241m.\u001b[39m_accessor\n\u001b[1;32m--> 224\u001b[0m accessor_obj \u001b[38;5;241m=\u001b[39m \u001b[38;5;28;43mself\u001b[39;49m\u001b[38;5;241;43m.\u001b[39;49m\u001b[43m_accessor\u001b[49m\u001b[43m(\u001b[49m\u001b[43mobj\u001b[49m\u001b[43m)\u001b[49m\n\u001b[0;32m    225\u001b[0m \u001b[38;5;66;03m# Replace the property with the accessor object. Inspired by:\u001b[39;00m\n\u001b[0;32m    226\u001b[0m \u001b[38;5;66;03m# https://www.pydanny.com/cached-property.html\u001b[39;00m\n\u001b[0;32m    227\u001b[0m \u001b[38;5;66;03m# We need to use object.__setattr__ because we overwrite __setattr__ on\u001b[39;00m\n\u001b[0;32m    228\u001b[0m \u001b[38;5;66;03m# NDFrame\u001b[39;00m\n\u001b[0;32m    229\u001b[0m \u001b[38;5;28mobject\u001b[39m\u001b[38;5;241m.\u001b[39m\u001b[38;5;21m__setattr__\u001b[39m(obj, \u001b[38;5;28mself\u001b[39m\u001b[38;5;241m.\u001b[39m_name, accessor_obj)\n",
      "File \u001b[1;32m~\\AppData\\Local\\Programs\\Python\\Python311\\Lib\\site-packages\\pandas\\core\\strings\\accessor.py:181\u001b[0m, in \u001b[0;36mStringMethods.__init__\u001b[1;34m(self, data)\u001b[0m\n\u001b[0;32m    178\u001b[0m \u001b[38;5;28;01mdef\u001b[39;00m \u001b[38;5;21m__init__\u001b[39m(\u001b[38;5;28mself\u001b[39m, data) \u001b[38;5;241m-\u001b[39m\u001b[38;5;241m>\u001b[39m \u001b[38;5;28;01mNone\u001b[39;00m:\n\u001b[0;32m    179\u001b[0m     \u001b[38;5;28;01mfrom\u001b[39;00m \u001b[38;5;21;01mpandas\u001b[39;00m\u001b[38;5;21;01m.\u001b[39;00m\u001b[38;5;21;01mcore\u001b[39;00m\u001b[38;5;21;01m.\u001b[39;00m\u001b[38;5;21;01marrays\u001b[39;00m\u001b[38;5;21;01m.\u001b[39;00m\u001b[38;5;21;01mstring_\u001b[39;00m \u001b[38;5;28;01mimport\u001b[39;00m StringDtype\n\u001b[1;32m--> 181\u001b[0m     \u001b[38;5;28mself\u001b[39m\u001b[38;5;241m.\u001b[39m_inferred_dtype \u001b[38;5;241m=\u001b[39m \u001b[38;5;28;43mself\u001b[39;49m\u001b[38;5;241;43m.\u001b[39;49m\u001b[43m_validate\u001b[49m\u001b[43m(\u001b[49m\u001b[43mdata\u001b[49m\u001b[43m)\u001b[49m\n\u001b[0;32m    182\u001b[0m     \u001b[38;5;28mself\u001b[39m\u001b[38;5;241m.\u001b[39m_is_categorical \u001b[38;5;241m=\u001b[39m is_categorical_dtype(data\u001b[38;5;241m.\u001b[39mdtype)\n\u001b[0;32m    183\u001b[0m     \u001b[38;5;28mself\u001b[39m\u001b[38;5;241m.\u001b[39m_is_string \u001b[38;5;241m=\u001b[39m \u001b[38;5;28misinstance\u001b[39m(data\u001b[38;5;241m.\u001b[39mdtype, StringDtype)\n",
      "File \u001b[1;32m~\\AppData\\Local\\Programs\\Python\\Python311\\Lib\\site-packages\\pandas\\core\\strings\\accessor.py:235\u001b[0m, in \u001b[0;36mStringMethods._validate\u001b[1;34m(data)\u001b[0m\n\u001b[0;32m    232\u001b[0m inferred_dtype \u001b[38;5;241m=\u001b[39m lib\u001b[38;5;241m.\u001b[39minfer_dtype(values, skipna\u001b[38;5;241m=\u001b[39m\u001b[38;5;28;01mTrue\u001b[39;00m)\n\u001b[0;32m    234\u001b[0m \u001b[38;5;28;01mif\u001b[39;00m inferred_dtype \u001b[38;5;129;01mnot\u001b[39;00m \u001b[38;5;129;01min\u001b[39;00m allowed_types:\n\u001b[1;32m--> 235\u001b[0m     \u001b[38;5;28;01mraise\u001b[39;00m \u001b[38;5;167;01mAttributeError\u001b[39;00m(\u001b[38;5;124m\"\u001b[39m\u001b[38;5;124mCan only use .str accessor with string values!\u001b[39m\u001b[38;5;124m\"\u001b[39m)\n\u001b[0;32m    236\u001b[0m \u001b[38;5;28;01mreturn\u001b[39;00m inferred_dtype\n",
      "\u001b[1;31mAttributeError\u001b[0m: Can only use .str accessor with string values!"
     ]
    }
   ],
   "source": [
    "df1['GSDP (Cr INR at Current prices) in 18-19'] = df1['GSDP (Cr INR at Current prices) in 18-19'].str.replace(',', '').astype(int)"
   ]
  },
  {
   "cell_type": "code",
   "execution_count": 97,
   "metadata": {},
   "outputs": [],
   "source": [
    "df1['Share'] = df1['Share'].str.rstrip('%').astype(float)/100.0"
   ]
  },
  {
   "cell_type": "code",
   "execution_count": 99,
   "metadata": {},
   "outputs": [],
   "source": [
    "df1['GSDP (Cr INR at 2011-12 prices) in 19-20'] = df1['GSDP (Cr INR at 2011-12 prices) in 19-20'].str.replace(',', '').astype(int)"
   ]
  },
  {
   "cell_type": "code",
   "execution_count": 100,
   "metadata": {},
   "outputs": [],
   "source": [
    "df1['GSDP (Cr INR at 2011-12 prices) in 18-19'] = df1['GSDP (Cr INR at 2011-12 prices) in 18-19'].str.replace(',', '').astype(int)"
   ]
  },
  {
   "cell_type": "markdown",
   "metadata": {},
   "source": [
    "## All values changed to thier respective DataTypes"
   ]
  },
  {
   "cell_type": "code",
   "execution_count": 101,
   "metadata": {},
   "outputs": [
    {
     "name": "stdout",
     "output_type": "stream",
     "text": [
      "<class 'pandas.core.frame.DataFrame'>\n",
      "Index: 32 entries, 0 to 31\n",
      "Data columns (total 8 columns):\n",
      " #   Column                                    Non-Null Count  Dtype  \n",
      "---  ------                                    --------------  -----  \n",
      " 0   Rank                                      32 non-null     float64\n",
      " 1   State                                     32 non-null     object \n",
      " 2   GSDP (Cr INR at Current prices) in 19-20  32 non-null     int32  \n",
      " 3   GSDP (Cr INR at Current prices) in 18-19  32 non-null     int32  \n",
      " 4   Share                                     32 non-null     float64\n",
      " 5   GDP ($billion)                            32 non-null     float64\n",
      " 6   GSDP (Cr INR at 2011-12 prices) in 19-20  32 non-null     int32  \n",
      " 7   GSDP (Cr INR at 2011-12 prices) in 18-19  32 non-null     int32  \n",
      "dtypes: float64(3), int32(4), object(1)\n",
      "memory usage: 1.8+ KB\n"
     ]
    }
   ],
   "source": [
    "df1.info()"
   ]
  },
  {
   "cell_type": "code",
   "execution_count": 64,
   "metadata": {},
   "outputs": [
    {
     "data": {
      "text/plain": [
       "(32, 8)"
      ]
     },
     "execution_count": 64,
     "metadata": {},
     "output_type": "execute_result"
    }
   ],
   "source": [
    "df1.shape"
   ]
  },
  {
   "cell_type": "code",
   "execution_count": 105,
   "metadata": {},
   "outputs": [],
   "source": [
    "df1['Share'] = df1['Share']*100"
   ]
  },
  {
   "cell_type": "code",
   "execution_count": 113,
   "metadata": {},
   "outputs": [],
   "source": [
    "df1 = df1.rename(columns={'Share':'Share (in %)'})"
   ]
  },
  {
   "cell_type": "code",
   "execution_count": 114,
   "metadata": {},
   "outputs": [
    {
     "data": {
      "text/html": [
       "<div>\n",
       "<style scoped>\n",
       "    .dataframe tbody tr th:only-of-type {\n",
       "        vertical-align: middle;\n",
       "    }\n",
       "\n",
       "    .dataframe tbody tr th {\n",
       "        vertical-align: top;\n",
       "    }\n",
       "\n",
       "    .dataframe thead th {\n",
       "        text-align: right;\n",
       "    }\n",
       "</style>\n",
       "<table border=\"1\" class=\"dataframe\">\n",
       "  <thead>\n",
       "    <tr style=\"text-align: right;\">\n",
       "      <th></th>\n",
       "      <th>Rank</th>\n",
       "      <th>State</th>\n",
       "      <th>GSDP (Cr INR at Current prices) in 19-20</th>\n",
       "      <th>GSDP (Cr INR at Current prices) in 18-19</th>\n",
       "      <th>Share (in %)</th>\n",
       "      <th>GDP ($billion)</th>\n",
       "      <th>GSDP (Cr INR at 2011-12 prices) in 19-20</th>\n",
       "      <th>GSDP (Cr INR at 2011-12 prices) in 18-19</th>\n",
       "    </tr>\n",
       "  </thead>\n",
       "  <tbody>\n",
       "    <tr>\n",
       "      <th>0</th>\n",
       "      <td>1.0</td>\n",
       "      <td>Maharashtra</td>\n",
       "      <td>2878583</td>\n",
       "      <td>2632792</td>\n",
       "      <td>13.88</td>\n",
       "      <td>398.145</td>\n",
       "      <td>2818555</td>\n",
       "      <td>2039074</td>\n",
       "    </tr>\n",
       "    <tr>\n",
       "      <th>1</th>\n",
       "      <td>2.0</td>\n",
       "      <td>TamilNadu</td>\n",
       "      <td>1845853</td>\n",
       "      <td>1630208</td>\n",
       "      <td>8.59</td>\n",
       "      <td>246.529</td>\n",
       "      <td>1312929</td>\n",
       "      <td>1215307</td>\n",
       "    </tr>\n",
       "    <tr>\n",
       "      <th>2</th>\n",
       "      <td>3.0</td>\n",
       "      <td>UttarPradesh</td>\n",
       "      <td>1687818</td>\n",
       "      <td>1584764</td>\n",
       "      <td>8.35</td>\n",
       "      <td>239.656</td>\n",
       "      <td>1166817</td>\n",
       "      <td>1123982</td>\n",
       "    </tr>\n",
       "    <tr>\n",
       "      <th>3</th>\n",
       "      <td>4.0</td>\n",
       "      <td>Gujarat</td>\n",
       "      <td>1701495</td>\n",
       "      <td>1502899</td>\n",
       "      <td>7.92</td>\n",
       "      <td>227.276</td>\n",
       "      <td>188303</td>\n",
       "      <td>1186379</td>\n",
       "    </tr>\n",
       "    <tr>\n",
       "      <th>4</th>\n",
       "      <td>5.0</td>\n",
       "      <td>Karnataka</td>\n",
       "      <td>1631977</td>\n",
       "      <td>1493127</td>\n",
       "      <td>7.87</td>\n",
       "      <td>225.798</td>\n",
       "      <td>1156039</td>\n",
       "      <td>1091077</td>\n",
       "    </tr>\n",
       "    <tr>\n",
       "      <th>5</th>\n",
       "      <td>6.0</td>\n",
       "      <td>WestBengal</td>\n",
       "      <td>1253832</td>\n",
       "      <td>1089898</td>\n",
       "      <td>5.75</td>\n",
       "      <td>164.820</td>\n",
       "      <td>793223</td>\n",
       "      <td>739525</td>\n",
       "    </tr>\n",
       "    <tr>\n",
       "      <th>6</th>\n",
       "      <td>7.0</td>\n",
       "      <td>Rajasthan</td>\n",
       "      <td>1020989</td>\n",
       "      <td>942586</td>\n",
       "      <td>4.97</td>\n",
       "      <td>142.543</td>\n",
       "      <td>711627</td>\n",
       "      <td>677428</td>\n",
       "    </tr>\n",
       "    <tr>\n",
       "      <th>7</th>\n",
       "      <td>8.0</td>\n",
       "      <td>AndhraPradesh</td>\n",
       "      <td>972782</td>\n",
       "      <td>862957</td>\n",
       "      <td>4.55</td>\n",
       "      <td>130.501</td>\n",
       "      <td>672018</td>\n",
       "      <td>621301</td>\n",
       "    </tr>\n",
       "    <tr>\n",
       "      <th>8</th>\n",
       "      <td>9.0</td>\n",
       "      <td>Telangana</td>\n",
       "      <td>969604</td>\n",
       "      <td>861031</td>\n",
       "      <td>4.54</td>\n",
       "      <td>130.210</td>\n",
       "      <td>663258</td>\n",
       "      <td>612828</td>\n",
       "    </tr>\n",
       "    <tr>\n",
       "      <th>9</th>\n",
       "      <td>10.0</td>\n",
       "      <td>MadhyaPradesh</td>\n",
       "      <td>906672</td>\n",
       "      <td>809592</td>\n",
       "      <td>4.27</td>\n",
       "      <td>122.431</td>\n",
       "      <td>561801</td>\n",
       "      <td>522009</td>\n",
       "    </tr>\n",
       "    <tr>\n",
       "      <th>10</th>\n",
       "      <td>11.0</td>\n",
       "      <td>Kerala</td>\n",
       "      <td>875514</td>\n",
       "      <td>781653</td>\n",
       "      <td>4.12</td>\n",
       "      <td>118.206</td>\n",
       "      <td>854689</td>\n",
       "      <td>559412</td>\n",
       "    </tr>\n",
       "    <tr>\n",
       "      <th>11</th>\n",
       "      <td>12.0</td>\n",
       "      <td>Delhi</td>\n",
       "      <td>856112</td>\n",
       "      <td>774870</td>\n",
       "      <td>4.08</td>\n",
       "      <td>117.180</td>\n",
       "      <td>634408</td>\n",
       "      <td>590569</td>\n",
       "    </tr>\n",
       "    <tr>\n",
       "      <th>12</th>\n",
       "      <td>13.0</td>\n",
       "      <td>Haryana</td>\n",
       "      <td>831610</td>\n",
       "      <td>734163</td>\n",
       "      <td>3.87</td>\n",
       "      <td>111.024</td>\n",
       "      <td>572240</td>\n",
       "      <td>531085</td>\n",
       "    </tr>\n",
       "    <tr>\n",
       "      <th>13</th>\n",
       "      <td>14.0</td>\n",
       "      <td>Bihar</td>\n",
       "      <td>611804</td>\n",
       "      <td>530363</td>\n",
       "      <td>2.80</td>\n",
       "      <td>80.204</td>\n",
       "      <td>414977</td>\n",
       "      <td>375651</td>\n",
       "    </tr>\n",
       "    <tr>\n",
       "      <th>14</th>\n",
       "      <td>15.0</td>\n",
       "      <td>Punjab</td>\n",
       "      <td>574760</td>\n",
       "      <td>526376</td>\n",
       "      <td>2.77</td>\n",
       "      <td>79.601</td>\n",
       "      <td>418868</td>\n",
       "      <td>397669</td>\n",
       "    </tr>\n",
       "    <tr>\n",
       "      <th>15</th>\n",
       "      <td>16.0</td>\n",
       "      <td>Odisha</td>\n",
       "      <td>521275</td>\n",
       "      <td>487805</td>\n",
       "      <td>2.57</td>\n",
       "      <td>73.768</td>\n",
       "      <td>396499</td>\n",
       "      <td>376877</td>\n",
       "    </tr>\n",
       "    <tr>\n",
       "      <th>16</th>\n",
       "      <td>17.0</td>\n",
       "      <td>Assam</td>\n",
       "      <td>374096</td>\n",
       "      <td>315881</td>\n",
       "      <td>1.67</td>\n",
       "      <td>47.769</td>\n",
       "      <td>351318</td>\n",
       "      <td>234048</td>\n",
       "    </tr>\n",
       "    <tr>\n",
       "      <th>17</th>\n",
       "      <td>18.0</td>\n",
       "      <td>Chhattisgarh</td>\n",
       "      <td>329180</td>\n",
       "      <td>304063</td>\n",
       "      <td>1.60</td>\n",
       "      <td>45.982</td>\n",
       "      <td>243477</td>\n",
       "      <td>231182</td>\n",
       "    </tr>\n",
       "    <tr>\n",
       "      <th>18</th>\n",
       "      <td>19.0</td>\n",
       "      <td>Jharkhand</td>\n",
       "      <td>328598</td>\n",
       "      <td>297204</td>\n",
       "      <td>1.57</td>\n",
       "      <td>44.945</td>\n",
       "      <td>240036</td>\n",
       "      <td>224986</td>\n",
       "    </tr>\n",
       "  </tbody>\n",
       "</table>\n",
       "</div>"
      ],
      "text/plain": [
       "    Rank          State  GSDP (Cr INR at Current prices) in 19-20   \n",
       "0    1.0    Maharashtra                                   2878583  \\\n",
       "1    2.0      TamilNadu                                   1845853   \n",
       "2    3.0   UttarPradesh                                   1687818   \n",
       "3    4.0        Gujarat                                   1701495   \n",
       "4    5.0      Karnataka                                   1631977   \n",
       "5    6.0     WestBengal                                   1253832   \n",
       "6    7.0      Rajasthan                                   1020989   \n",
       "7    8.0  AndhraPradesh                                    972782   \n",
       "8    9.0      Telangana                                    969604   \n",
       "9   10.0  MadhyaPradesh                                    906672   \n",
       "10  11.0         Kerala                                    875514   \n",
       "11  12.0          Delhi                                    856112   \n",
       "12  13.0        Haryana                                    831610   \n",
       "13  14.0          Bihar                                    611804   \n",
       "14  15.0         Punjab                                    574760   \n",
       "15  16.0         Odisha                                    521275   \n",
       "16  17.0          Assam                                    374096   \n",
       "17  18.0   Chhattisgarh                                    329180   \n",
       "18  19.0      Jharkhand                                    328598   \n",
       "\n",
       "    GSDP (Cr INR at Current prices) in 18-19  Share (in %)  GDP ($billion)   \n",
       "0                                    2632792         13.88         398.145  \\\n",
       "1                                    1630208          8.59         246.529   \n",
       "2                                    1584764          8.35         239.656   \n",
       "3                                    1502899          7.92         227.276   \n",
       "4                                    1493127          7.87         225.798   \n",
       "5                                    1089898          5.75         164.820   \n",
       "6                                     942586          4.97         142.543   \n",
       "7                                     862957          4.55         130.501   \n",
       "8                                     861031          4.54         130.210   \n",
       "9                                     809592          4.27         122.431   \n",
       "10                                    781653          4.12         118.206   \n",
       "11                                    774870          4.08         117.180   \n",
       "12                                    734163          3.87         111.024   \n",
       "13                                    530363          2.80          80.204   \n",
       "14                                    526376          2.77          79.601   \n",
       "15                                    487805          2.57          73.768   \n",
       "16                                    315881          1.67          47.769   \n",
       "17                                    304063          1.60          45.982   \n",
       "18                                    297204          1.57          44.945   \n",
       "\n",
       "    GSDP (Cr INR at 2011-12 prices) in 19-20   \n",
       "0                                    2818555  \\\n",
       "1                                    1312929   \n",
       "2                                    1166817   \n",
       "3                                     188303   \n",
       "4                                    1156039   \n",
       "5                                     793223   \n",
       "6                                     711627   \n",
       "7                                     672018   \n",
       "8                                     663258   \n",
       "9                                     561801   \n",
       "10                                    854689   \n",
       "11                                    634408   \n",
       "12                                    572240   \n",
       "13                                    414977   \n",
       "14                                    418868   \n",
       "15                                    396499   \n",
       "16                                    351318   \n",
       "17                                    243477   \n",
       "18                                    240036   \n",
       "\n",
       "    GSDP (Cr INR at 2011-12 prices) in 18-19  \n",
       "0                                    2039074  \n",
       "1                                    1215307  \n",
       "2                                    1123982  \n",
       "3                                    1186379  \n",
       "4                                    1091077  \n",
       "5                                     739525  \n",
       "6                                     677428  \n",
       "7                                     621301  \n",
       "8                                     612828  \n",
       "9                                     522009  \n",
       "10                                    559412  \n",
       "11                                    590569  \n",
       "12                                    531085  \n",
       "13                                    375651  \n",
       "14                                    397669  \n",
       "15                                    376877  \n",
       "16                                    234048  \n",
       "17                                    231182  \n",
       "18                                    224986  "
      ]
     },
     "execution_count": 114,
     "metadata": {},
     "output_type": "execute_result"
    }
   ],
   "source": [
    "df1.head(19)"
   ]
  },
  {
   "cell_type": "code",
   "execution_count": 122,
   "metadata": {},
   "outputs": [],
   "source": [
    "pd.set_option('display.float_format', lambda x: '%.3f' % x)"
   ]
  },
  {
   "cell_type": "code",
   "execution_count": 123,
   "metadata": {},
   "outputs": [
    {
     "data": {
      "text/html": [
       "<div>\n",
       "<style scoped>\n",
       "    .dataframe tbody tr th:only-of-type {\n",
       "        vertical-align: middle;\n",
       "    }\n",
       "\n",
       "    .dataframe tbody tr th {\n",
       "        vertical-align: top;\n",
       "    }\n",
       "\n",
       "    .dataframe thead th {\n",
       "        text-align: right;\n",
       "    }\n",
       "</style>\n",
       "<table border=\"1\" class=\"dataframe\">\n",
       "  <thead>\n",
       "    <tr style=\"text-align: right;\">\n",
       "      <th></th>\n",
       "      <th>Rank</th>\n",
       "      <th>GSDP (Cr INR at Current prices) in 19-20</th>\n",
       "      <th>GSDP (Cr INR at Current prices) in 18-19</th>\n",
       "      <th>Share (in %)</th>\n",
       "      <th>GDP ($billion)</th>\n",
       "      <th>GSDP (Cr INR at 2011-12 prices) in 19-20</th>\n",
       "      <th>GSDP (Cr INR at 2011-12 prices) in 18-19</th>\n",
       "    </tr>\n",
       "  </thead>\n",
       "  <tbody>\n",
       "    <tr>\n",
       "      <th>count</th>\n",
       "      <td>32.000</td>\n",
       "      <td>32.000</td>\n",
       "      <td>32.000</td>\n",
       "      <td>32.000</td>\n",
       "      <td>32.000</td>\n",
       "      <td>32.000</td>\n",
       "      <td>32.000</td>\n",
       "    </tr>\n",
       "    <tr>\n",
       "      <th>mean</th>\n",
       "      <td>16.500</td>\n",
       "      <td>662306.531</td>\n",
       "      <td>596304.281</td>\n",
       "      <td>3.143</td>\n",
       "      <td>90.176</td>\n",
       "      <td>469672.406</td>\n",
       "      <td>438647.750</td>\n",
       "    </tr>\n",
       "    <tr>\n",
       "      <th>std</th>\n",
       "      <td>9.381</td>\n",
       "      <td>696993.667</td>\n",
       "      <td>631925.191</td>\n",
       "      <td>3.331</td>\n",
       "      <td>95.563</td>\n",
       "      <td>568324.889</td>\n",
       "      <td>475021.998</td>\n",
       "    </tr>\n",
       "    <tr>\n",
       "      <th>min</th>\n",
       "      <td>1.000</td>\n",
       "      <td>26503.000</td>\n",
       "      <td>22287.000</td>\n",
       "      <td>0.120</td>\n",
       "      <td>3.370</td>\n",
       "      <td>18797.000</td>\n",
       "      <td>16478.000</td>\n",
       "    </tr>\n",
       "    <tr>\n",
       "      <th>25%</th>\n",
       "      <td>8.750</td>\n",
       "      <td>54041.500</td>\n",
       "      <td>47912.250</td>\n",
       "      <td>0.250</td>\n",
       "      <td>7.246</td>\n",
       "      <td>41731.250</td>\n",
       "      <td>35520.250</td>\n",
       "    </tr>\n",
       "    <tr>\n",
       "      <th>50%</th>\n",
       "      <td>16.500</td>\n",
       "      <td>447685.500</td>\n",
       "      <td>401843.000</td>\n",
       "      <td>2.120</td>\n",
       "      <td>60.769</td>\n",
       "      <td>302492.000</td>\n",
       "      <td>304849.500</td>\n",
       "    </tr>\n",
       "    <tr>\n",
       "      <th>75%</th>\n",
       "      <td>24.250</td>\n",
       "      <td>970398.500</td>\n",
       "      <td>861512.500</td>\n",
       "      <td>4.543</td>\n",
       "      <td>130.283</td>\n",
       "      <td>665448.000</td>\n",
       "      <td>614946.250</td>\n",
       "    </tr>\n",
       "    <tr>\n",
       "      <th>max</th>\n",
       "      <td>32.000</td>\n",
       "      <td>2878583.000</td>\n",
       "      <td>2632792.000</td>\n",
       "      <td>13.880</td>\n",
       "      <td>398.145</td>\n",
       "      <td>2818555.000</td>\n",
       "      <td>2039074.000</td>\n",
       "    </tr>\n",
       "  </tbody>\n",
       "</table>\n",
       "</div>"
      ],
      "text/plain": [
       "        Rank  GSDP (Cr INR at Current prices) in 19-20   \n",
       "count 32.000                                    32.000  \\\n",
       "mean  16.500                                662306.531   \n",
       "std    9.381                                696993.667   \n",
       "min    1.000                                 26503.000   \n",
       "25%    8.750                                 54041.500   \n",
       "50%   16.500                                447685.500   \n",
       "75%   24.250                                970398.500   \n",
       "max   32.000                               2878583.000   \n",
       "\n",
       "       GSDP (Cr INR at Current prices) in 18-19  Share (in %)  GDP ($billion)   \n",
       "count                                    32.000        32.000          32.000  \\\n",
       "mean                                 596304.281         3.143          90.176   \n",
       "std                                  631925.191         3.331          95.563   \n",
       "min                                   22287.000         0.120           3.370   \n",
       "25%                                   47912.250         0.250           7.246   \n",
       "50%                                  401843.000         2.120          60.769   \n",
       "75%                                  861512.500         4.543         130.283   \n",
       "max                                 2632792.000        13.880         398.145   \n",
       "\n",
       "       GSDP (Cr INR at 2011-12 prices) in 19-20   \n",
       "count                                    32.000  \\\n",
       "mean                                 469672.406   \n",
       "std                                  568324.889   \n",
       "min                                   18797.000   \n",
       "25%                                   41731.250   \n",
       "50%                                  302492.000   \n",
       "75%                                  665448.000   \n",
       "max                                 2818555.000   \n",
       "\n",
       "       GSDP (Cr INR at 2011-12 prices) in 18-19  \n",
       "count                                    32.000  \n",
       "mean                                 438647.750  \n",
       "std                                  475021.998  \n",
       "min                                   16478.000  \n",
       "25%                                   35520.250  \n",
       "50%                                  304849.500  \n",
       "75%                                  614946.250  \n",
       "max                                 2039074.000  "
      ]
     },
     "execution_count": 123,
     "metadata": {},
     "output_type": "execute_result"
    }
   ],
   "source": [
    "df1.describe()"
   ]
  },
  {
   "cell_type": "code",
   "execution_count": null,
   "metadata": {},
   "outputs": [],
   "source": []
  }
 ],
 "metadata": {
  "kernelspec": {
   "display_name": "Python 3 (ipykernel)",
   "language": "python",
   "name": "python3"
  },
  "language_info": {
   "codemirror_mode": {
    "name": "ipython",
    "version": 3
   },
   "file_extension": ".py",
   "mimetype": "text/x-python",
   "name": "python",
   "nbconvert_exporter": "python",
   "pygments_lexer": "ipython3",
   "version": "3.11.4"
  }
 },
 "nbformat": 4,
 "nbformat_minor": 2
}
